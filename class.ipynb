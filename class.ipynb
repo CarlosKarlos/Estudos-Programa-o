{
  "nbformat": 4,
  "nbformat_minor": 0,
  "metadata": {
    "colab": {
      "provenance": [],
      "authorship_tag": "ABX9TyMlUmebRRnzvVye9B6nUb8b",
      "include_colab_link": true
    },
    "kernelspec": {
      "name": "python3",
      "display_name": "Python 3"
    },
    "language_info": {
      "name": "python"
    }
  },
  "cells": [
    {
      "cell_type": "markdown",
      "metadata": {
        "id": "view-in-github",
        "colab_type": "text"
      },
      "source": [
        "<a href=\"https://colab.research.google.com/github/CarlosKarlos/Estudos-Programa-o/blob/main/class.ipynb\" target=\"_parent\"><img src=\"https://colab.research.google.com/assets/colab-badge.svg\" alt=\"Open In Colab\"/></a>"
      ]
    },
    {
      "cell_type": "code",
      "source": [
        "class Pessoa:\n",
        "  def __init__(self,name):\n",
        "    self.name = name\n",
        "\n"
      ],
      "metadata": {
        "id": "-isCZyducHP8"
      },
      "execution_count": 20,
      "outputs": []
    },
    {
      "cell_type": "code",
      "source": [
        "aluno = Pessoa('Cauã')\n",
        "\n",
        "aluno.name"
      ],
      "metadata": {
        "colab": {
          "base_uri": "https://localhost:8080/",
          "height": 35
        },
        "id": "WlpxPWsQhoz3",
        "outputId": "366e4b4c-cc3b-40b3-f16e-6ac6efaab2e6"
      },
      "execution_count": 22,
      "outputs": [
        {
          "output_type": "execute_result",
          "data": {
            "text/plain": [
              "'Cauã'"
            ],
            "application/vnd.google.colaboratory.intrinsic+json": {
              "type": "string"
            }
          },
          "metadata": {},
          "execution_count": 22
        }
      ]
    },
    {
      "cell_type": "code",
      "source": [
        "class Funcionario:\n",
        "  def __init__(self,nome,cargo,matricula):\n",
        "     self.nome = nome\n",
        "     self.cargo = cargo\n",
        "     self.matricula = cargo"
      ],
      "metadata": {
        "id": "eNLRsDJfimdn"
      },
      "execution_count": 36,
      "outputs": []
    },
    {
      "cell_type": "code",
      "source": [
        "vend = Funcionario('Carlos','vendendor',66669)\n",
        "\n",
        "\n",
        "print(f'{vend.nome}, cargo : {vend.cargo}, mat: {vend.matricula}')"
      ],
      "metadata": {
        "colab": {
          "base_uri": "https://localhost:8080/"
        },
        "id": "R5J-85Kqj_o6",
        "outputId": "2ad15c81-a12a-45e0-944b-0025292bae23"
      },
      "execution_count": 37,
      "outputs": [
        {
          "output_type": "stream",
          "name": "stdout",
          "text": [
            "Carlos, cargo : vendendor, mat: vendendor\n"
          ]
        }
      ]
    },
    {
      "cell_type": "code",
      "source": [
        "class Cliente:\n",
        "  def __init__(self,nome,idade,sexo):\n",
        "    self.nome = nome\n",
        "    self.idade = idade\n",
        "    self.sexo = sexo\n",
        "  def detalhe(self):\n",
        "    print(f'{self.nome}, tem :{self.idade},do sexo:{self.sexo}')"
      ],
      "metadata": {
        "id": "-04kkXAumV0p"
      },
      "execution_count": 42,
      "outputs": []
    },
    {
      "cell_type": "code",
      "source": [
        "cli = Cliente('Ana',20,'feminino')\n",
        "cli.detalhe()"
      ],
      "metadata": {
        "colab": {
          "base_uri": "https://localhost:8080/"
        },
        "id": "-DArsbt6njzI",
        "outputId": "8c555924-5884-463b-dae7-303a115c322c"
      },
      "execution_count": 43,
      "outputs": [
        {
          "output_type": "stream",
          "name": "stdout",
          "text": [
            "Ana, tem :20,do sexo:feminino\n"
          ]
        }
      ]
    },
    {
      "cell_type": "code",
      "source": [
        "class Conta:\n",
        "  def __init__(self,titular,saldo):\n",
        "    self.titular = titular\n",
        "    self.saldo = saldo\n",
        "  def exibesaldo(self):\n",
        "    print(f'{self.titular}-----dinheiro-----grana------pechincha------ R$ {self.saldo},00 ;)')\n"
      ],
      "metadata": {
        "id": "5j_kb4Pkok6M"
      },
      "execution_count": 55,
      "outputs": []
    },
    {
      "cell_type": "code",
      "source": [
        "saldao = Conta('Titulo_aleatorio',26)\n",
        "saldao.exibesaldo()"
      ],
      "metadata": {
        "colab": {
          "base_uri": "https://localhost:8080/"
        },
        "id": "HI89SM8apS6O",
        "outputId": "1334dadc-b6f2-4b12-cb7b-f7e94e1d6430"
      },
      "execution_count": 56,
      "outputs": [
        {
          "output_type": "stream",
          "name": "stdout",
          "text": [
            "Titulo_aleatorio-----dinheiro-----grana------pechincha------ R$ 26,00 ;)\n"
          ]
        }
      ]
    },
    {
      "cell_type": "code",
      "source": [
        "class Animal:\n",
        "  def __init__(self, name):\n",
        "    self.name = name\n",
        "  def emitirSom(self):\n",
        "    pass\n",
        "\n",
        "class Ovelha(Animal):\n",
        "  def emitirSom(self):\n",
        "    print('Béeeee')\n",
        "\n",
        "class Cachorro(Animal):\n",
        "  def emitirSom(self):\n",
        "    print('Au Au')\n",
        "\n",
        "class Peixe(Animal):\n",
        "      def emitirSom(self):\n",
        "        print('glub glub')\n",
        "     \n",
        "class Gato(Animal):\n",
        "      def emitirSom(self):\n",
        "        print('meow')\n",
        "     \n",
        "class Cobra(Animal):\n",
        "  def emitirSom(self):\n",
        "    print('ssssssssssssss')\n",
        "     \n",
        "class Papagaio(Animal):\n",
        "  def emitirSom(self):\n",
        "    print('sua mãe e minha!')\n",
        "     \n",
        "class Passarinho(Animal):\n",
        "  def emitirSom(self):\n",
        "    print('quack quack')\n",
        "     \n",
        "     "
      ],
      "metadata": {
        "id": "J11kxnoJtfwO"
      },
      "execution_count": 61,
      "outputs": []
    },
    {
      "cell_type": "code",
      "source": [
        "ovelhia = Ovelha('Ana')\n",
        "\n",
        "ovelhia.emitirSom()"
      ],
      "metadata": {
        "colab": {
          "base_uri": "https://localhost:8080/"
        },
        "id": "J6geaulkt3Qt",
        "outputId": "72cde707-6d47-41df-d5c0-a240b228e3c7"
      },
      "execution_count": 63,
      "outputs": [
        {
          "output_type": "stream",
          "name": "stdout",
          "text": [
            "Béeeee\n"
          ]
        }
      ]
    }
  ]
}