{
  "nbformat": 4,
  "nbformat_minor": 0,
  "metadata": {
    "colab": {
      "provenance": [],
      "authorship_tag": "ABX9TyPMnPIvYx4E6HQ4H9yAc5u7",
      "include_colab_link": true
    },
    "kernelspec": {
      "name": "python3",
      "display_name": "Python 3"
    },
    "language_info": {
      "name": "python"
    }
  },
  "cells": [
    {
      "cell_type": "markdown",
      "metadata": {
        "id": "view-in-github",
        "colab_type": "text"
      },
      "source": [
        "<a href=\"https://colab.research.google.com/github/CarlosKarlos/Estudos-Programa-o/blob/main/praticando.ipynb\" target=\"_parent\"><img src=\"https://colab.research.google.com/assets/colab-badge.svg\" alt=\"Open In Colab\"/></a>"
      ]
    },
    {
      "cell_type": "code",
      "execution_count": null,
      "metadata": {
        "id": "yhp6M6fOX7xK"
      },
      "outputs": [],
      "source": [
        "provaA = {'Andre': 8.5, 'Ana': 7.0, 'Chico': 6.5, 'Nubia': 10, 'Luana': 8}\n",
        "provaB = {'Julio': 5.5, 'Aristides': 6.0, 'Sebastiana': 9.5, 'Camila': 10, 'João': 6}\n",
        "\n",
        "\n",
        "resultado_final = {}\n",
        "\n",
        "\n",
        "resultado_final.update(provaA)\n",
        "resultado_final.update(provaB)\n",
        "\n",
        "resultado_final\n",
        "\n",
        "\n"
      ]
    },
    {
      "cell_type": "code",
      "source": [
        "sorted(resultado_final, key=resultado_final.get, reverse=True)"
      ],
      "metadata": {
        "id": "btxTMdOmfRBk"
      },
      "execution_count": null,
      "outputs": []
    },
    {
      "cell_type": "code",
      "source": [
        "nomes_candidatos = list(resultado_final.keys())\n",
        "nomes_candidatos"
      ],
      "metadata": {
        "id": "ZiYj53ZBhhxH"
      },
      "execution_count": null,
      "outputs": []
    },
    {
      "cell_type": "code",
      "source": [
        "sorted(resultado_final, key=resultado_final.get)"
      ],
      "metadata": {
        "id": "_LhoO3MKe700"
      },
      "execution_count": null,
      "outputs": []
    },
    {
      "cell_type": "code",
      "source": [
        "nomes = list(resultado_final.values())\n",
        "nomes"
      ],
      "metadata": {
        "colab": {
          "base_uri": "https://localhost:8080/"
        },
        "id": "mgin-gqZiJPX",
        "outputId": "9fcdbf04-b2d1-433f-d2ea-1b499050996d"
      },
      "execution_count": 17,
      "outputs": [
        {
          "output_type": "execute_result",
          "data": {
            "text/plain": [
              "[8.5, 7.0, 6.5, 10, 8, 5.5, 6.0, 9.5, 10, 6]"
            ]
          },
          "metadata": {},
          "execution_count": 17
        }
      ]
    },
    {
      "cell_type": "code",
      "source": [
        "def nota(dicnotas,nomes):\n",
        "  if nomes in dicnotas:\n",
        "    return dicnotas[nomes]\n",
        "  else:\n",
        "    return ' candidato inexistente'\n",
        " \n"
      ],
      "metadata": {
        "id": "xdu1iTr7jCZo"
      },
      "execution_count": 23,
      "outputs": []
    },
    {
      "cell_type": "code",
      "source": [
        "nomecandidato = input()\n",
        "notacandidato = nota(resultado_final,nomecandidato)\n",
        "\n",
        "print(notacandidato)"
      ],
      "metadata": {
        "id": "bJxmK3G0qHfW"
      },
      "execution_count": null,
      "outputs": []
    }
  ]
}