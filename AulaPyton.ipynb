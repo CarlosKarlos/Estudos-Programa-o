{
  "nbformat": 4,
  "nbformat_minor": 0,
  "metadata": {
    "colab": {
      "provenance": [],
      "authorship_tag": "ABX9TyO16O4bPN+CWdLQ3fM2MruE",
      "include_colab_link": true
    },
    "kernelspec": {
      "name": "python3",
      "display_name": "Python 3"
    },
    "language_info": {
      "name": "python"
    }
  },
  "cells": [
    {
      "cell_type": "markdown",
      "metadata": {
        "id": "view-in-github",
        "colab_type": "text"
      },
      "source": [
        "<a href=\"https://colab.research.google.com/github/CarlosKarlos/Estudos-Programa-o/blob/main/AulaPyton.ipynb\" target=\"_parent\"><img src=\"https://colab.research.google.com/assets/colab-badge.svg\" alt=\"Open In Colab\"/></a>"
      ]
    },
    {
      "cell_type": "code",
      "source": [
        "def myfistfunction():\n",
        "     print('minha primeira função')"
      ],
      "metadata": {
        "id": "-_2VI2VnEAcf"
      },
      "execution_count": 24,
      "outputs": []
    },
    {
      "cell_type": "code",
      "source": [
        "myfistfunction"
      ],
      "metadata": {
        "id": "MMe8Q4JpIJBS"
      },
      "execution_count": null,
      "outputs": []
    },
    {
      "cell_type": "code",
      "source": [
        "def pronomeTratam(pronome):\n",
        "   print(pronome + \"Pablo\")"
      ],
      "metadata": {
        "id": "DUczatb3Ildr"
      },
      "execution_count": 31,
      "outputs": []
    },
    {
      "cell_type": "code",
      "source": [
        "pronomeTratam('Doutor')\n",
        "pronomeTratam('isso')\n",
        "pronomeTratam('ae')"
      ],
      "metadata": {
        "id": "z2BkQC4nJHnv"
      },
      "execution_count": null,
      "outputs": []
    },
    {
      "cell_type": "code",
      "source": [
        "def tratamNome(pronome,nome):\n",
        "   print(pronome,nome)"
      ],
      "metadata": {
        "id": "WsRBCtYxJ1vH"
      },
      "execution_count": 33,
      "outputs": []
    },
    {
      "cell_type": "code",
      "source": [
        "tratamNome('cara','legal')"
      ],
      "metadata": {
        "id": "gfgzbNUbKQFP"
      },
      "execution_count": null,
      "outputs": []
    },
    {
      "cell_type": "code",
      "source": [
        "def anoNome(nome,ano):\n",
        "  idade = 2023 - ano\n",
        "  print(nome,idade,'anos')"
      ],
      "metadata": {
        "id": "AWutjw0EK5sp"
      },
      "execution_count": 40,
      "outputs": []
    },
    {
      "cell_type": "code",
      "source": [
        "anoNome('Carlos',2004)"
      ],
      "metadata": {
        "colab": {
          "base_uri": "https://localhost:8080/"
        },
        "id": "cHShbTGRLoHQ",
        "outputId": "a1944416-a47d-40a3-a6b6-52a7c644d323"
      },
      "execution_count": 39,
      "outputs": [
        {
          "output_type": "stream",
          "name": "stdout",
          "text": [
            "Carlos 19 anos\n"
          ]
        }
      ]
    },
    {
      "cell_type": "code",
      "source": [
        "def imcdoido(peso,altura):\n",
        "\n",
        " return peso/altura**2"
      ],
      "metadata": {
        "id": "DHOux2MTN47S"
      },
      "execution_count": 59,
      "outputs": []
    },
    {
      "cell_type": "code",
      "source": [
        "imcdoido(70,1.70)\n"
      ],
      "metadata": {
        "colab": {
          "base_uri": "https://localhost:8080/"
        },
        "id": "BxGKsuITO42z",
        "outputId": "2173e765-3850-4070-8217-e1489d76a51d"
      },
      "execution_count": 60,
      "outputs": [
        {
          "output_type": "execute_result",
          "data": {
            "text/plain": [
              "24.221453287197235"
            ]
          },
          "metadata": {},
          "execution_count": 60
        }
      ]
    },
    {
      "cell_type": "code",
      "source": [
        "def imposto(valor,tempo):\n",
        "  return valor * 0.025 * tempo\n",
        "   "
      ],
      "metadata": {
        "id": "wC2mV0hUaGYZ"
      },
      "execution_count": 61,
      "outputs": []
    },
    {
      "cell_type": "code",
      "source": [
        "imposto(1000,5)"
      ],
      "metadata": {
        "colab": {
          "base_uri": "https://localhost:8080/"
        },
        "id": "UvRP0cXGdPIa",
        "outputId": "4fd41d94-49f3-45af-fc20-4d893b8aaa6a"
      },
      "execution_count": 62,
      "outputs": [
        {
          "output_type": "execute_result",
          "data": {
            "text/plain": [
              "125.0"
            ]
          },
          "metadata": {},
          "execution_count": 62
        }
      ]
    },
    {
      "cell_type": "code",
      "source": [
        "def valortotalemprestimo(valor,tempo):\n",
        "  return valor + imposto(valor,tempo)"
      ],
      "metadata": {
        "id": "wyDOxkl1dhwR"
      },
      "execution_count": 63,
      "outputs": []
    },
    {
      "cell_type": "code",
      "source": [
        "valortotalemprestimo(12000,12)"
      ],
      "metadata": {
        "colab": {
          "base_uri": "https://localhost:8080/"
        },
        "id": "TzKYyKSjeBBw",
        "outputId": "c50e5af7-a0d4-416d-e358-97e6503f4c9e"
      },
      "execution_count": 76,
      "outputs": [
        {
          "output_type": "execute_result",
          "data": {
            "text/plain": [
              "15600.0"
            ]
          },
          "metadata": {},
          "execution_count": 76
        }
      ]
    },
    {
      "cell_type": "code",
      "source": [
        "valor = float(input('diz ae o tamanho da bomba'))\n",
        "\n",
        "tempo = int(input('omg'))\n",
        "\n",
        "valortotalemprestimo(valor,tempo)"
      ],
      "metadata": {
        "colab": {
          "base_uri": "https://localhost:8080/"
        },
        "id": "w1e7SzgnfUt5",
        "outputId": "8dadc8cb-2456-4818-e269-552effdd2891"
      },
      "execution_count": 77,
      "outputs": [
        {
          "name": "stdout",
          "output_type": "stream",
          "text": [
            "diz ae o tamanho da bomba5000\n",
            "omg12\n"
          ]
        },
        {
          "output_type": "execute_result",
          "data": {
            "text/plain": [
              "6500.0"
            ]
          },
          "metadata": {},
          "execution_count": 77
        }
      ]
    }
  ]
}