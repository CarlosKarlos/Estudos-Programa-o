{
  "nbformat": 4,
  "nbformat_minor": 0,
  "metadata": {
    "colab": {
      "provenance": [],
      "authorship_tag": "ABX9TyO3QRqqeTH29nUGK980Ll0N",
      "include_colab_link": true
    },
    "kernelspec": {
      "name": "python3",
      "display_name": "Python 3"
    },
    "language_info": {
      "name": "python"
    }
  },
  "cells": [
    {
      "cell_type": "markdown",
      "metadata": {
        "id": "view-in-github",
        "colab_type": "text"
      },
      "source": [
        "<a href=\"https://colab.research.google.com/github/CarlosKarlos/Estudos-Programa-o/blob/main/Aula.ipynb\" target=\"_parent\"><img src=\"https://colab.research.google.com/assets/colab-badge.svg\" alt=\"Open In Colab\"/></a>"
      ]
    },
    {
      "cell_type": "code",
      "execution_count": null,
      "metadata": {
        "id": "HunoWXSWCarI"
      },
      "outputs": [],
      "source": [
        "cont=0\n",
        "\n",
        "num = int(input('diz o numero'))\n",
        "\n",
        "while(cont <= num):\n",
        "  if(num >1):\n",
        "   print(cont)\n",
        " \n",
        "  else:\n",
        "   print('digite outro numero')\n",
        "  cont+=1"
      ]
    },
    {
      "cell_type": "code",
      "source": [
        "cont=0\n",
        "\n",
        "num = int(input('diz o numero'))\n",
        "\n",
        "lista = []\n",
        "while (cont <= num):\n",
        " lista.append(cont)\n",
        " cont+=1\n",
        "\n",
        "print(sum(lista))"
      ],
      "metadata": {
        "id": "k7V_eIDMLEhG"
      },
      "execution_count": null,
      "outputs": []
    },
    {
      "cell_type": "code",
      "source": [
        "cont=0\n",
        "\n",
        "num = int(input('diz o numero'))\n",
        "\n",
        "soma = 0\n",
        "\n",
        "while(cont <= num):\n",
        " soma += cont\n",
        " cont +=1\n",
        "\n",
        "print(soma)"
      ],
      "metadata": {
        "id": "5jL5AFFVNMrR"
      },
      "execution_count": null,
      "outputs": []
    },
    {
      "cell_type": "code",
      "source": [
        "senha = 'carlos'\n",
        "digite = (input('senha '))\n",
        "cont = 0\n",
        " \n",
        "while(cont < 5):\n",
        "\n",
        "  if(senha == digite):\n",
        "    break\n",
        "  else: print('tente novamente')\n",
        "  cont +=1\n",
        "  digite = (input('senha'))\n",
        "\n",
        "\n",
        "if(cont== 5):\n",
        "   print('seu acesso foi bloqueado ')\n",
        "else:\n",
        "  print('acesso permitido ')"
      ],
      "metadata": {
        "id": "dMwGD-QzOYlB"
      },
      "execution_count": null,
      "outputs": []
    },
    {
      "cell_type": "code",
      "source": [
        "nome = input('digite o nome ') \n",
        " \n",
        "if(nome.isdigit):\n",
        "  print(\"entrada icorreta\")\n",
        "else: print('o nome está correto')"
      ],
      "metadata": {
        "colab": {
          "base_uri": "https://localhost:8080/"
        },
        "id": "ZPPHCwEdafjn",
        "outputId": "d29b00ef-40fc-47e7-d5a2-e72689d79cdd"
      },
      "execution_count": 38,
      "outputs": [
        {
          "output_type": "stream",
          "name": "stdout",
          "text": [
            "digite o nome ggg\n",
            "entrada icorreta\n"
          ]
        }
      ]
    },
    {
      "cell_type": "code",
      "source": [
        "texto = input('isso ae')\n",
        "\n",
        "texto.isalpha()"
      ],
      "metadata": {
        "colab": {
          "base_uri": "https://localhost:8080/"
        },
        "id": "MDFHa7AmbZNh",
        "outputId": "aa8b974a-76d9-41d6-a096-9642017704b0"
      },
      "execution_count": 39,
      "outputs": [
        {
          "name": "stdout",
          "output_type": "stream",
          "text": [
            "isso aehh\n"
          ]
        },
        {
          "output_type": "execute_result",
          "data": {
            "text/plain": [
              "True"
            ]
          },
          "metadata": {},
          "execution_count": 39
        }
      ]
    },
    {
      "cell_type": "code",
      "source": [
        "listadeanimais = []\n",
        "\n",
        "animais = input('digite o nome ') \n",
        "\n",
        "while(animais.isdigit() == False):\n",
        "\n",
        "   listadeanimais.append(animais)\n",
        "   animais = input('digite o nome ') \n",
        "\n",
        "animais"
      ],
      "metadata": {
        "colab": {
          "base_uri": "https://localhost:8080/",
          "height": 105
        },
        "id": "nv60ZUobbkah",
        "outputId": "c3b5ff7d-bf15-41a3-93d2-10b6972abe3e"
      },
      "execution_count": 42,
      "outputs": [
        {
          "name": "stdout",
          "output_type": "stream",
          "text": [
            "digite o nome lobo\n",
            "digite o nome cachorro\n",
            "digite o nome gato]\n",
            "digite o nome 2\n"
          ]
        },
        {
          "output_type": "execute_result",
          "data": {
            "text/plain": [
              "'2'"
            ],
            "application/vnd.google.colaboratory.intrinsic+json": {
              "type": "string"
            }
          },
          "metadata": {},
          "execution_count": 42
        }
      ]
    }
  ]
}