{
  "nbformat": 4,
  "nbformat_minor": 0,
  "metadata": {
    "colab": {
      "provenance": [],
      "authorship_tag": "ABX9TyNhuZ7wX6qtfXBwUYvZg1Yi",
      "include_colab_link": true
    },
    "kernelspec": {
      "name": "python3",
      "display_name": "Python 3"
    },
    "language_info": {
      "name": "python"
    }
  },
  "cells": [
    {
      "cell_type": "markdown",
      "metadata": {
        "id": "view-in-github",
        "colab_type": "text"
      },
      "source": [
        "<a href=\"https://colab.research.google.com/github/CarlosKarlos/Estudos-Programa-o/blob/main/aula_3.ipynb\" target=\"_parent\"><img src=\"https://colab.research.google.com/assets/colab-badge.svg\" alt=\"Open In Colab\"/></a>"
      ]
    },
    {
      "cell_type": "code",
      "source": [
        "\n",
        "notadodava = int(input('nota do dava: '))\n",
        "\n",
        "notadocross = int(input('nota do cross:  '))\n",
        "\n",
        "\n",
        "notadofenix = int(input('nota do fenix: '))\n",
        "\n",
        "notadocaraquenãolembronome = int(input('nota do cara: '))\n",
        "\n",
        "média = (notadocross + notadofenix + notadodava+ notadocaraquenãolembronome)/4\n",
        "\n",
        "\n",
        "\n",
        "if(média >=8): print('jogo bom', média)\n",
        "\n",
        "elif(média >=5): print('jogo médio', média)\n",
        "\n",
        "else:print('jogo ruim', média)\n",
        "\n",
        "#flow games código"
      ],
      "metadata": {
        "colab": {
          "base_uri": "https://localhost:8080/"
        },
        "id": "FaaQpTjh8QZp",
        "outputId": "7f5743c5-8d86-4118-df67-e82d8ec5d3e8"
      },
      "execution_count": 100,
      "outputs": [
        {
          "output_type": "stream",
          "name": "stdout",
          "text": [
            "nota do dava: 8\n",
            "nota do cross:  9\n",
            "nota do fenix: 9\n",
            "nota do cara: 9\n",
            "jogo bom 8.75\n"
          ]
        }
      ]
    },
    {
      "cell_type": "code",
      "source": [
        "notas = [9,7,7,8,6,5,2,4,6,7,3,2,4,8,8]"
      ],
      "metadata": {
        "id": "LgA-exouIxS_"
      },
      "execution_count": 71,
      "outputs": []
    },
    {
      "cell_type": "code",
      "source": [
        "for nota in notas:\n",
        "  if(nota >= 7): \n",
        "    print(nota)\n",
        "\n",
        "  "
      ],
      "metadata": {
        "colab": {
          "base_uri": "https://localhost:8080/"
        },
        "id": "2hB7B_tYJEp3",
        "outputId": "bf7b2127-7faa-4db3-f72f-0728c1bf6732"
      },
      "execution_count": 93,
      "outputs": [
        {
          "output_type": "stream",
          "name": "stdout",
          "text": [
            "9\n",
            "7\n",
            "7\n",
            "8\n",
            "7\n",
            "8\n",
            "8\n"
          ]
        }
      ]
    },
    {
      "cell_type": "code",
      "source": [
        "aprovados = 0\n",
        "\n",
        "reprovados = 0\n",
        "\n",
        "for nota in notas:\n",
        "\n",
        "  if(nota >=7):\n",
        "    aprovados +=1\n",
        "\n",
        "  else:\n",
        "    reprovados += 1\n",
        "\n",
        "print('aprovados', aprovados )\n",
        "\n",
        "print('reprovados', reprovados)"
      ],
      "metadata": {
        "colab": {
          "base_uri": "https://localhost:8080/"
        },
        "id": "x_-p20O8JUyp",
        "outputId": "abcbc1b4-a471-464f-e80b-d3b857276b1c"
      },
      "execution_count": 99,
      "outputs": [
        {
          "output_type": "stream",
          "name": "stdout",
          "text": [
            "aprovados 7\n",
            "reprovados 8\n"
          ]
        }
      ]
    },
    {
      "cell_type": "code",
      "source": [
        "contador = 1\n",
        "\n",
        "numeros = []\n",
        "\n",
        "while (contador <= 10):\n",
        "   numeros.append(contador)\n",
        "   contador += 1\n",
        "    \n",
        "  \n"
      ],
      "metadata": {
        "id": "7BdjunuNQONu"
      },
      "execution_count": 109,
      "outputs": []
    },
    {
      "cell_type": "code",
      "source": [
        "contador = 1\n",
        "\n",
        "numeros = []\n",
        "\n",
        "tamanho = int(input('tamanho  '))\n",
        "\n",
        "while (contador <= tamanho):\n",
        "   numeros.append(contador)\n",
        "   contador += 1\n",
        "\n",
        "\n",
        "    "
      ],
      "metadata": {
        "colab": {
          "base_uri": "https://localhost:8080/"
        },
        "id": "tlxKwiWMSR9z",
        "outputId": "3b9b4480-716d-4bcf-fe5d-09c5b345a2f8"
      },
      "execution_count": 120,
      "outputs": [
        {
          "name": "stdout",
          "output_type": "stream",
          "text": [
            "tamanho  7474747\n"
          ]
        }
      ]
    },
    {
      "cell_type": "code",
      "source": [
        "cidades = []\n",
        "city = input()\n",
        "while(cidades != 'vai'):\n",
        "   \n",
        "  cidades.append(city)\n"
      ],
      "metadata": {
        "colab": {
          "base_uri": "https://localhost:8080/",
          "height": 252
        },
        "id": "TDyFQLwUUt8A",
        "outputId": "8fd1905b-84f3-4587-9ac5-ae9f4c1da4b5"
      },
      "execution_count": 132,
      "outputs": [
        {
          "name": "stdout",
          "output_type": "stream",
          "text": [
            "vai\n"
          ]
        },
        {
          "output_type": "error",
          "ename": "KeyboardInterrupt",
          "evalue": "ignored",
          "traceback": [
            "\u001b[0;31m---------------------------------------------------------------------------\u001b[0m",
            "\u001b[0;31mKeyboardInterrupt\u001b[0m                         Traceback (most recent call last)",
            "\u001b[0;32m<ipython-input-132-cdef9255e024>\u001b[0m in \u001b[0;36m<module>\u001b[0;34m\u001b[0m\n\u001b[1;32m      1\u001b[0m \u001b[0mcidades\u001b[0m \u001b[0;34m=\u001b[0m \u001b[0;34m[\u001b[0m\u001b[0;34m]\u001b[0m\u001b[0;34m\u001b[0m\u001b[0;34m\u001b[0m\u001b[0m\n\u001b[1;32m      2\u001b[0m \u001b[0mcity\u001b[0m \u001b[0;34m=\u001b[0m \u001b[0minput\u001b[0m\u001b[0;34m(\u001b[0m\u001b[0;34m)\u001b[0m\u001b[0;34m\u001b[0m\u001b[0;34m\u001b[0m\u001b[0m\n\u001b[0;32m----> 3\u001b[0;31m \u001b[0;32mwhile\u001b[0m\u001b[0;34m(\u001b[0m\u001b[0mcidades\u001b[0m \u001b[0;34m!=\u001b[0m \u001b[0;34m'vai'\u001b[0m\u001b[0;34m)\u001b[0m\u001b[0;34m:\u001b[0m\u001b[0;34m\u001b[0m\u001b[0;34m\u001b[0m\u001b[0m\n\u001b[0m\u001b[1;32m      4\u001b[0m \u001b[0;34m\u001b[0m\u001b[0m\n\u001b[1;32m      5\u001b[0m   \u001b[0mcidades\u001b[0m\u001b[0;34m.\u001b[0m\u001b[0mappend\u001b[0m\u001b[0;34m(\u001b[0m\u001b[0mcity\u001b[0m\u001b[0;34m)\u001b[0m\u001b[0;34m\u001b[0m\u001b[0;34m\u001b[0m\u001b[0m\n",
            "\u001b[0;31mKeyboardInterrupt\u001b[0m: "
          ]
        }
      ]
    },
    {
      "cell_type": "code",
      "source": [
        "numero = int(input())\n",
        "\n",
        "\n",
        "while(numero >= 0):\n",
        "\n",
        "    if(numero % 2 == 0):\n",
        "       print('par')\n",
        "       numero=int(input('digite'))\n",
        "    \n",
        "    \n",
        "    else:\n",
        "       print('ímpar')\n",
        "       numero=int(input('digite'))\n",
        "      \n"
      ],
      "metadata": {
        "colab": {
          "base_uri": "https://localhost:8080/"
        },
        "id": "kq4HbBV8ZvXt",
        "outputId": "abe1ad70-2100-4a09-9ade-19829e28037d"
      },
      "execution_count": 133,
      "outputs": [
        {
          "name": "stdout",
          "output_type": "stream",
          "text": [
            "17\n",
            "ímpar\n",
            "digite66\n",
            "par\n",
            "digite55\n",
            "ímpar\n",
            "digite-1\n"
          ]
        }
      ]
    }
  ]
}