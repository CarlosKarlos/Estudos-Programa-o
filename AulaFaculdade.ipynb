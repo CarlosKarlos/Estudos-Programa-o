{
  "nbformat": 4,
  "nbformat_minor": 0,
  "metadata": {
    "colab": {
      "provenance": [],
      "authorship_tag": "ABX9TyNv2YmNRSOvkGgPyeHMon/k",
      "include_colab_link": true
    },
    "kernelspec": {
      "name": "python3",
      "display_name": "Python 3"
    },
    "language_info": {
      "name": "python"
    }
  },
  "cells": [
    {
      "cell_type": "markdown",
      "metadata": {
        "id": "view-in-github",
        "colab_type": "text"
      },
      "source": [
        "<a href=\"https://colab.research.google.com/github/CarlosKarlos/Estudos-Programa-o/blob/main/AulaFaculdade.ipynb\" target=\"_parent\"><img src=\"https://colab.research.google.com/assets/colab-badge.svg\" alt=\"Open In Colab\"/></a>"
      ]
    },
    {
      "cell_type": "code",
      "execution_count": 1,
      "metadata": {
        "id": "bqccTnGkDsWC"
      },
      "outputs": [],
      "source": [
        "def calculemedia(x,y,z):\n",
        "  return (x+y+z)/3"
      ]
    },
    {
      "cell_type": "code",
      "source": [
        "a = float(input('nota: '))\n",
        "b = float(input('nota: '))\n",
        "c = float(input('nota: '))\n",
        "\n",
        "calculemedia(a,b,c)"
      ],
      "metadata": {
        "id": "dYMcGnpRJ0_a"
      },
      "execution_count": null,
      "outputs": []
    },
    {
      "cell_type": "code",
      "source": [
        "def mediatotal(*notas):\n",
        "  soma = 0\n",
        "  for nota in notas:\n",
        "    soma += nota\n",
        "  media = soma/len(notas)\n",
        "  return media"
      ],
      "metadata": {
        "id": "h3wFnk2cMX6e"
      },
      "execution_count": 9,
      "outputs": []
    },
    {
      "cell_type": "code",
      "source": [
        "def retornaomaior(numeros):\n",
        " maior = 0\n",
        " for n in numeros:\n",
        "   if(n >= maior):\n",
        "     maior = n\n",
        "     return maior"
      ],
      "metadata": {
        "id": "aDTZaDtTNLg3"
      },
      "execution_count": 67,
      "outputs": []
    },
    {
      "cell_type": "code",
      "source": [
        "def nacionalidade(country = 'cuba'):\n",
        "\n",
        "  print('eu nasci em:' + country)\n",
        "\n"
      ],
      "metadata": {
        "id": "aIr618q3Qr2Z"
      },
      "execution_count": 75,
      "outputs": []
    },
    {
      "cell_type": "code",
      "source": [
        "nacionalidade('Brasil')\n",
        "nacionalidade('United Stades')\n",
        "nacionalidade('Guiana Francesa')\n",
        "nacionalidade()"
      ],
      "metadata": {
        "id": "8pa4pzflfER7"
      },
      "execution_count": null,
      "outputs": []
    },
    {
      "cell_type": "code",
      "source": [
        "def somas(a,b):\n",
        "\n",
        "   \n",
        "  return a + b"
      ],
      "metadata": {
        "id": "tMizxAeqfrzD"
      },
      "execution_count": 92,
      "outputs": []
    },
    {
      "cell_type": "code",
      "source": [
        "somas(9,8)"
      ],
      "metadata": {
        "colab": {
          "base_uri": "https://localhost:8080/"
        },
        "id": "18IFvPCsfbiM",
        "outputId": "f767ecb6-5645-48f0-841d-36625c140fb6"
      },
      "execution_count": 93,
      "outputs": [
        {
          "output_type": "execute_result",
          "data": {
            "text/plain": [
              "17"
            ]
          },
          "metadata": {},
          "execution_count": 93
        }
      ]
    },
    {
      "cell_type": "code",
      "source": [
        "def absoluto(absolutismo):\n",
        "  \n",
        "   return abs(absolutismo)"
      ],
      "metadata": {
        "id": "-wDGS2SBgIMM"
      },
      "execution_count": 90,
      "outputs": []
    },
    {
      "cell_type": "code",
      "source": [
        "def palavras(lista):\n",
        "   lista3 = []\n",
        "   for item in lista:\n",
        "     if(len(item)> 3):\n",
        "       lista3.append(item)\n",
        "   return lista3"
      ],
      "metadata": {
        "id": "cDcLX4npgvkM"
      },
      "execution_count": 94,
      "outputs": []
    },
    {
      "cell_type": "code",
      "source": [
        "palavras('banana')"
      ],
      "metadata": {
        "colab": {
          "base_uri": "https://localhost:8080/"
        },
        "id": "a8cJq3b6kpW9",
        "outputId": "ae33f3f0-de0f-4add-e8d1-861aa5cac49d"
      },
      "execution_count": 96,
      "outputs": [
        {
          "output_type": "execute_result",
          "data": {
            "text/plain": [
              "[]"
            ]
          },
          "metadata": {},
          "execution_count": 96
        }
      ]
    }
  ]
}