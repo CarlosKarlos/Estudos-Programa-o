{
  "nbformat": 4,
  "nbformat_minor": 0,
  "metadata": {
    "colab": {
      "provenance": [],
      "authorship_tag": "ABX9TyNcK3iBFLHR4ASVcni9AE7h",
      "include_colab_link": true
    },
    "kernelspec": {
      "name": "python3",
      "display_name": "Python 3"
    },
    "language_info": {
      "name": "python"
    }
  },
  "cells": [
    {
      "cell_type": "markdown",
      "metadata": {
        "id": "view-in-github",
        "colab_type": "text"
      },
      "source": [
        "<a href=\"https://colab.research.google.com/github/CarlosKarlos/Estudos-Programa-o/blob/main/Aula2.ipynb\" target=\"_parent\"><img src=\"https://colab.research.google.com/assets/colab-badge.svg\" alt=\"Open In Colab\"/></a>"
      ]
    },
    {
      "cell_type": "code",
      "source": [
        "print('segundo notebook')"
      ],
      "metadata": {
        "colab": {
          "base_uri": "https://localhost:8080/"
        },
        "id": "dmuepciY6EL0",
        "outputId": "743dd8d1-7814-4427-9b8e-5ceb6bff8677"
      },
      "execution_count": null,
      "outputs": [
        {
          "output_type": "stream",
          "name": "stdout",
          "text": [
            "segundo notebook\n"
          ]
        }
      ]
    },
    {
      "cell_type": "code",
      "source": [
        "lutador = 32"
      ],
      "metadata": {
        "id": "D7v7idbR6uDC"
      },
      "execution_count": null,
      "outputs": []
    },
    {
      "cell_type": "code",
      "source": [
        "if(lutador >= 18):\n",
        "\n",
        "   print('lutador senior')\n",
        "\n",
        "elif(lutador >= 14):\n",
        "   print('lutador nao sei oque')\n",
        "\n",
        "\n",
        "else:  \n",
        "\n",
        "   print('infantil')\n",
        "\n",
        "   "
      ],
      "metadata": {
        "colab": {
          "base_uri": "https://localhost:8080/"
        },
        "id": "DdUh7GSD7_P9",
        "outputId": "4590a7ee-14aa-4350-e166-0cf96b6892b3"
      },
      "execution_count": null,
      "outputs": [
        {
          "output_type": "stream",
          "name": "stdout",
          "text": [
            "lutador senior\n"
          ]
        }
      ]
    },
    {
      "cell_type": "code",
      "source": [
        "alunos= ['Messi', 'Cristiano','Neymar','Balotelli','Manoel Gomes blue pen god','Speed god','Leon resident evil 4','Kratos deus da guerra','Crash o bixo laranja','jogador que fez gol no Brasil','careca do Hitman','Sonic sem botas'\n",
        ",'Steve do Minecraft']\n",
        "\n",
        "alunos"
      ],
      "metadata": {
        "colab": {
          "base_uri": "https://localhost:8080/"
        },
        "id": "lCHJsdXB-eaF",
        "outputId": "3d648f60-a644-4170-cee5-8b49553db302"
      },
      "execution_count": null,
      "outputs": [
        {
          "output_type": "execute_result",
          "data": {
            "text/plain": [
              "['Messi',\n",
              " 'Cristiano',\n",
              " 'Neymar',\n",
              " 'Balotelli',\n",
              " 'Manoel Gomes blue pen god',\n",
              " 'Speed god',\n",
              " 'Leon resident evil 4',\n",
              " 'Kratos deus da guerra',\n",
              " 'Crash o bixo laranja',\n",
              " 'jogador que fez gol no Brasil',\n",
              " 'careca do Hitman',\n",
              " 'Sonic sem botas',\n",
              " 'Steve do Minecraft']"
            ]
          },
          "metadata": {},
          "execution_count": 44
        }
      ]
    },
    {
      "cell_type": "code",
      "source": [
        "alunos[3] = 'careca do Hitman'\n",
        "\n",
        "alunos[4] = 'Neymar'\n",
        "\n",
        "alunos [7] = 'Speed god'"
      ],
      "metadata": {
        "id": "vPp2uHNnBnp2"
      },
      "execution_count": null,
      "outputs": []
    },
    {
      "cell_type": "code",
      "source": [
        "alunos.append('Among us')\n",
        "\n",
        "alunos.append('amogus vermelho')"
      ],
      "metadata": {
        "id": "YJpYI9C8FMFG"
      },
      "execution_count": null,
      "outputs": []
    },
    {
      "cell_type": "code",
      "source": [
        "alunos.append(input('digite o nomeado '))\n",
        "\n",
        "alunos"
      ],
      "metadata": {
        "colab": {
          "base_uri": "https://localhost:8080/"
        },
        "id": "OzOnZgDmGPGf",
        "outputId": "16c3b6e2-8316-4cf3-851a-84c6bf029896"
      },
      "execution_count": 55,
      "outputs": [
        {
          "name": "stdout",
          "output_type": "stream",
          "text": [
            "digite o nomeado Leon\n"
          ]
        },
        {
          "output_type": "execute_result",
          "data": {
            "text/plain": [
              "['Messi',\n",
              " 'Cristiano',\n",
              " 'Neymar',\n",
              " 'Balotelli',\n",
              " 'Manoel Gomes blue pen god',\n",
              " 'Speed god',\n",
              " 'Leon resident evil 4',\n",
              " 'Kratos deus da guerra',\n",
              " 'Crash o bixo laranja',\n",
              " 'jogador que fez gol no Brasil',\n",
              " 'careca do Hitman',\n",
              " 'Sonic sem botas',\n",
              " 'Steve do Minecraft',\n",
              " 'amogus amarelo',\n",
              " 'careca ',\n",
              " 'ooo',\n",
              " 'Leon']"
            ]
          },
          "metadata": {},
          "execution_count": 55
        }
      ]
    },
    {
      "cell_type": "code",
      "source": [
        "nome = input('DIGITE AGORA!!!!!!!!!')\n",
        "\n",
        "if nome in alunos:\n",
        "    print('tem amigo', nome)\n",
        "\n",
        "else : \n",
        "\n",
        "    print('temos um impostor entre nos...' , nome)"
      ],
      "metadata": {
        "colab": {
          "base_uri": "https://localhost:8080/"
        },
        "id": "N62c_qwBM480",
        "outputId": "aaa610fb-41c8-47ef-eac0-1219c5e1642a"
      },
      "execution_count": 62,
      "outputs": [
        {
          "output_type": "stream",
          "name": "stdout",
          "text": [
            "DIGITE AGORA!!!!!!!!!Manoel Gomes blue pen god\n",
            "tem amigo Manoel Gomes blue pen god\n"
          ]
        }
      ]
    },
    {
      "cell_type": "code",
      "source": [
        "numeros = []\n",
        "dobro = []\n",
        "for num in range(21):\n",
        "   numeros.append(num)\n",
        "    \n",
        " "
      ],
      "metadata": {
        "id": "WWF47PhRTjQn"
      },
      "execution_count": 109,
      "outputs": []
    },
    {
      "cell_type": "code",
      "source": [
        "dobro = []\n",
        "\n",
        "for num in numeros: \n",
        " dobro.append(numeros[num]*2)\n",
        "dobro"
      ],
      "metadata": {
        "colab": {
          "base_uri": "https://localhost:8080/"
        },
        "id": "e2dL2w-XUtho",
        "outputId": "8f5d9203-3f2a-4489-f218-9a56d8ff6ec6"
      },
      "execution_count": 95,
      "outputs": [
        {
          "output_type": "execute_result",
          "data": {
            "text/plain": [
              "[0, 2, 4, 6, 8, 10, 12, 14, 16, 18, 20, 22, 24, 26, 28, 30, 32, 34, 36, 38, 40]"
            ]
          },
          "metadata": {},
          "execution_count": 95
        }
      ]
    },
    {
      "cell_type": "code",
      "source": [
        "\n",
        "for num in numeros:\n",
        "  if numeros[num]%2 == 0:\n",
        "     print(numeros[num])"
      ],
      "metadata": {
        "colab": {
          "base_uri": "https://localhost:8080/"
        },
        "id": "by6YlESXXI2O",
        "outputId": "aa9a44df-ec74-45b3-c956-1cc362fcc2f9"
      },
      "execution_count": 105,
      "outputs": [
        {
          "output_type": "stream",
          "name": "stdout",
          "text": [
            "0\n",
            "2\n",
            "4\n",
            "6\n",
            "8\n",
            "10\n",
            "12\n",
            "14\n",
            "16\n",
            "18\n",
            "20\n"
          ]
        }
      ]
    }
  ]
}