{
  "nbformat": 4,
  "nbformat_minor": 0,
  "metadata": {
    "colab": {
      "provenance": [],
      "authorship_tag": "ABX9TyOocNw1FVvX6tXm/TJyDdvL",
      "include_colab_link": true
    },
    "kernelspec": {
      "name": "python3",
      "display_name": "Python 3"
    },
    "language_info": {
      "name": "python"
    }
  },
  "cells": [
    {
      "cell_type": "markdown",
      "metadata": {
        "id": "view-in-github",
        "colab_type": "text"
      },
      "source": [
        "<a href=\"https://colab.research.google.com/github/CarlosKarlos/Estudos-Programa-o/blob/main/AuladePrograma%C3%A7%C3%A3o.ipynb\" target=\"_parent\"><img src=\"https://colab.research.google.com/assets/colab-badge.svg\" alt=\"Open In Colab\"/></a>"
      ]
    },
    {
      "cell_type": "code",
      "source": [
        "def filtro(palavras):\n",
        "  palavra = []\n",
        "for i in palavras:\n",
        "   if i[0] == 'a':\n",
        "    palavra.append(i)\n",
        "print(len(palavra))\n",
        "return palavra"
      ],
      "metadata": {
        "id": "4TPwX2J2YoLY"
      },
      "execution_count": null,
      "outputs": []
    },
    {
      "cell_type": "code",
      "source": [
        "def produto(numeros):\n",
        "  resultado = 1\n",
        "\n",
        "for n in numeros:\n",
        "     resultado *= n\n",
        "  return resultado"
      ],
      "metadata": {
        "id": "O_W4Ch0ZZFGV"
      },
      "execution_count": null,
      "outputs": []
    },
    {
      "cell_type": "code",
      "source": [
        "def somatorio(numeros):\n",
        "  resultado = 0\n",
        "\n",
        "  for n in numeros:\n",
        "     resultado += n\n",
        "     if n % 2 == 0:\n",
        "       soma += n\n",
        "  return resultado"
      ],
      "metadata": {
        "id": "Xs0ePnEbbzS7"
      },
      "execution_count": 55,
      "outputs": []
    },
    {
      "cell_type": "code",
      "source": [
        "users = ['Carlos','Emanuel','Teixeira','Rufino','Silva']\n",
        "\n",
        "def maiornome(nome):\n",
        "  maior = ''\n",
        "  for u in nome:\n",
        "    if(len(u) >= len(maior)):\n",
        "      maior = u\n",
        "  return maior\n",
        "\n",
        "\n",
        "\n",
        "maiornome(users)"
      ],
      "metadata": {
        "id": "45OEGOZvgXQY"
      },
      "execution_count": null,
      "outputs": []
    },
    {
      "cell_type": "code",
      "source": [
        "def fatorial(n):\n",
        "  if(n <= 1):\n",
        "     return 1\n",
        "  else:\n",
        "    return n * fatorial(n -1)"
      ],
      "metadata": {
        "id": "JDa6Esv_qL-3"
      },
      "execution_count": 69,
      "outputs": []
    },
    {
      "cell_type": "code",
      "source": [
        "fatorial(6)"
      ],
      "metadata": {
        "id": "mFNLZyDrq2AA"
      },
      "execution_count": null,
      "outputs": []
    }
  ]
}